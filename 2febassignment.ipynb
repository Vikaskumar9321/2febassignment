{
 "cells": [
  {
   "cell_type": "markdown",
   "id": "ad33c884-ab3c-4791-ba33-5f54bcfcd58c",
   "metadata": {},
   "source": [
    "#Ans 1\n",
    "for loops and while loops are used to repeat a block of code for a specified number of times or until a certain condition is met.\n",
    "\n",
    "A \"for loop \" is used when you have a sequence of items you want to iterate over(list, a string, etc.) and perform some operation on each item."
   ]
  },
  {
   "cell_type": "code",
   "execution_count": 2,
   "id": "ada001e6-ec19-4d0e-905e-2a487e337717",
   "metadata": {},
   "outputs": [
    {
     "name": "stdout",
     "output_type": "stream",
     "text": [
      "Apple\n",
      "Banana\n",
      "Cherry\n"
     ]
    }
   ],
   "source": [
    "fruits = [\"Apple\" , \"Banana\", \"Cherry\"]\n",
    "for i in fruits:\n",
    "    print(i)"
   ]
  },
  {
   "cell_type": "markdown",
   "id": "71d5c69b-8f1f-4551-8b19-f5fbc9b4fac4",
   "metadata": {},
   "source": [
    "A \"while loop\" is used when you want to repeat a block of code as long as a condition is True.\n"
   ]
  },
  {
   "cell_type": "code",
   "execution_count": 6,
   "id": "065973ec-bc93-40e7-a5d2-97d6f619a9da",
   "metadata": {},
   "outputs": [
    {
     "name": "stdout",
     "output_type": "stream",
     "text": [
      "1\n",
      "2\n",
      "3\n",
      "4\n",
      "5\n"
     ]
    }
   ],
   "source": [
    "i = 1\n",
    "while i <=5 :\n",
    "    print(i)\n",
    "    i = i+1"
   ]
  },
  {
   "cell_type": "code",
   "execution_count": 9,
   "id": "c92ff8ca-d9ee-4aa6-ba36-47f1b4b53c48",
   "metadata": {},
   "outputs": [
    {
     "name": "stdout",
     "output_type": "stream",
     "text": [
      "Sum of first 10 natural number:  20\n",
      "product of first 10 natural number:  100\n"
     ]
    }
   ],
   "source": [
    "#Ans 2 using for loop\n",
    "sum = 0\n",
    "product = 1\n",
    "for i in range(1,11) :\n",
    "    sum = i+i\n",
    "    product = i*i\n",
    "print(\"Sum of first 10 natural number: \", sum)\n",
    "print(\"product of first 10 natural number: \", product)"
   ]
  },
  {
   "cell_type": "code",
   "execution_count": 10,
   "id": "6c582feb-f0b7-482f-b155-5e963a5ea63c",
   "metadata": {},
   "outputs": [
    {
     "name": "stdout",
     "output_type": "stream",
     "text": [
      "sum of first 10 natural number :  20\n",
      "product of first 10 natural number :  100\n"
     ]
    }
   ],
   "source": [
    "#using while loop\n",
    "sum = 0\n",
    "product = 1\n",
    "i = 1\n",
    "while i <= 10 :\n",
    "    sum = i+i\n",
    "    product = i*i\n",
    "    i=i+1\n",
    "print(\"sum of first 10 natural number : \", sum)\n",
    "print(\"product of first 10 natural number : \", product)"
   ]
  },
  {
   "cell_type": "code",
   "execution_count": 12,
   "id": "8f473d90-7b96-4114-af05-2eb5680f56eb",
   "metadata": {},
   "outputs": [
    {
     "name": "stdin",
     "output_type": "stream",
     "text": [
      "Enter the num of units :-  310\n"
     ]
    },
    {
     "name": "stdout",
     "output_type": "stream",
     "text": [
      "The total electricity bill is: 2250.0 Rs.\n"
     ]
    }
   ],
   "source": [
    "#Ans 3\n",
    "units = eval(input(\"Enter the num of units :- \"))\n",
    "if units <= 100:\n",
    "    bill = unit *4.5\n",
    "elif units <= 200:\n",
    "    bill = 100*4.5 + (units - 100) *6\n",
    "elif units <= 300:\n",
    "    bill = 100*4.5+ 100*6+(units - 200)*10\n",
    "else:\n",
    "    bill = 100 *4.5 + 100*6 + 100*10 + (units - 300) * 20\n",
    "print(\"The total electricity bill is:\" , bill , \"Rs.\")    "
   ]
  },
  {
   "cell_type": "code",
   "execution_count": 13,
   "id": "ef166415-5a3f-4307-bd5b-d9f7b147cbf6",
   "metadata": {},
   "outputs": [
    {
     "name": "stdout",
     "output_type": "stream",
     "text": [
      "[8, 64, 125, 216, 512, 1000, 1728, 2744, 3375, 4096, 5832, 8000, 10648, 13824, 15625, 17576, 21952, 27000, 32768, 39304, 42875, 46656, 54872, 64000, 74088, 85184, 91125, 97336, 110592, 125000, 140608, 157464, 166375, 175616, 195112, 216000, 238328, 262144, 274625, 287496, 314432, 343000, 373248, 405224, 421875, 438976, 474552, 512000, 551368, 592704, 614125, 636056, 681472, 729000, 778688, 830584, 857375, 884736, 941192, 1000000]\n"
     ]
    }
   ],
   "source": [
    "#Ans 4 using for loop\n",
    "cubes = []\n",
    "for i in range(1,101):\n",
    "    cube = i **3\n",
    "    if cube %4 == 0 or cube % 5 ==0 :\n",
    "        cubes.append(cube)\n",
    "print(cubes)        "
   ]
  },
  {
   "cell_type": "code",
   "execution_count": 14,
   "id": "152bdae3-9f1e-4fcf-9810-d161d57dd0be",
   "metadata": {},
   "outputs": [
    {
     "name": "stdout",
     "output_type": "stream",
     "text": [
      "[8, 64, 125, 216, 512, 1000, 1728, 2744, 3375, 4096, 5832, 8000, 10648, 13824, 15625, 17576, 21952, 27000, 32768, 39304, 42875, 46656, 54872, 64000, 74088, 85184, 91125, 97336, 110592, 125000, 140608, 157464, 166375, 175616, 195112, 216000, 238328, 262144, 274625, 287496, 314432, 343000, 373248, 405224, 421875, 438976, 474552, 512000, 551368, 592704, 614125, 636056, 681472, 729000, 778688, 830584, 857375, 884736, 941192, 1000000]\n"
     ]
    }
   ],
   "source": [
    "#using while loop\n",
    "cubes = []\n",
    "i = 1\n",
    "while i <=100:\n",
    "    cube = i **3\n",
    "    if cube%4 == 0 or cube% 5 == 0:\n",
    "        cubes.append(cube)\n",
    "    i= i+1\n",
    "print(cubes)    "
   ]
  },
  {
   "cell_type": "code",
   "execution_count": 7,
   "id": "e9280a38-de8e-41bd-9a89-a88b4473cefb",
   "metadata": {},
   "outputs": [
    {
     "name": "stdout",
     "output_type": "stream",
     "text": [
      "Number of vowels in the string:  12\n"
     ]
    }
   ],
   "source": [
    "#Ans 5\n",
    "string = \" I want to become a data scientist\"\n",
    "vowels = \"aieouAIEOU\"\n",
    "count= 0\n",
    "for char in string:\n",
    "    if char in vowels:\n",
    "        count = count+1\n",
    "        \n",
    "print(\"Number of vowels in the string: \", count)        "
   ]
  },
  {
   "cell_type": "code",
   "execution_count": null,
   "id": "a6a67a68-704e-44ad-a0d8-bb11498fd125",
   "metadata": {},
   "outputs": [],
   "source": []
  }
 ],
 "metadata": {
  "kernelspec": {
   "display_name": "Python 3 (ipykernel)",
   "language": "python",
   "name": "python3"
  },
  "language_info": {
   "codemirror_mode": {
    "name": "ipython",
    "version": 3
   },
   "file_extension": ".py",
   "mimetype": "text/x-python",
   "name": "python",
   "nbconvert_exporter": "python",
   "pygments_lexer": "ipython3",
   "version": "3.10.8"
  }
 },
 "nbformat": 4,
 "nbformat_minor": 5
}
